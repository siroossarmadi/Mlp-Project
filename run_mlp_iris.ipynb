{
 "cells": [
  {
   "cell_type": "markdown",
   "id": "radio-happiness",
   "metadata": {},
   "source": [
    "# Multilayer Perceptron"
   ]
  },
  {
   "cell_type": "markdown",
   "id": "mathematical-buffalo",
   "metadata": {},
   "source": [
    "    To install the requirements use this command:\n",
    "    \n",
    "        pip install -r requirements.txt\n",
    "    \n",
    "    But to clear that the only libraries we need to run this project are numpy and matplotlib to plot the errors and accuracies."
   ]
  },
  {
   "cell_type": "code",
   "execution_count": 1,
   "id": "fossil-oasis",
   "metadata": {},
   "outputs": [],
   "source": [
    "import numpy as np\n",
    "from mlp import MLP"
   ]
  },
  {
   "cell_type": "markdown",
   "id": "numerical-terrain",
   "metadata": {},
   "source": [
    "## Iris data\n",
    "    \n",
    "    In this section we load our iris data with numpy.\n"
   ]
  },
  {
   "cell_type": "code",
   "execution_count": 2,
   "id": "experienced-locator",
   "metadata": {},
   "outputs": [],
   "source": [
    "data = np.genfromtxt('iris.csv', skip_header=True, delimiter=',')"
   ]
  },
  {
   "cell_type": "markdown",
   "id": "smoking-monkey",
   "metadata": {},
   "source": [
    "## Mlp class\n",
    "    \n",
    "    Our mlp class take 4 parameters the first one is the data that we load it with numpy (the matrix data) the second one is epoch and the third one is learning rate and the fourth one is portion of data to use for train and the rest will be used for test.\n",
    "    "
   ]
  },
  {
   "cell_type": "markdown",
   "id": "inclusive-survivor",
   "metadata": {},
   "source": [
    "## Predict\n",
    "    predict with sigmoid activation fucntion and bound result with it and 1 for <0.5 and 0 for >0.5"
   ]
  },
  {
   "cell_type": "markdown",
   "id": "final-surge",
   "metadata": {},
   "source": [
    "## Train\n",
    "    we train and test for a single epoch and and just run it over and over agian for the number of epoch and train and test again (just like the algorithm in the slides) and update weights and biases."
   ]
  },
  {
   "cell_type": "markdown",
   "id": "acoustic-tunisia",
   "metadata": {},
   "source": [
    "## Layers\n",
    "    we have only one hidden layer here and it has 5 nodes.\n",
    "    and the output layer has 3 nodes."
   ]
  },
  {
   "cell_type": "code",
   "execution_count": 3,
   "id": "atlantic-gentleman",
   "metadata": {},
   "outputs": [
    {
     "data": {
      "image/png": "[encoded data removed]",
      "text/plain": [
       "<Figure size 432x288 with 1 Axes>"
      ]
     },
     "metadata": {
      "needs_background": "light"
     },
     "output_type": "display_data"
    }
   ],
   "source": [
    "mlp = MLP(data,1000,0.8,80,file_output='error_accuracy.csv')\n",
    "mlp.run()"
   ]
  },
  {
   "cell_type": "code",
   "execution_count": 4,
   "id": "lovely-torture",
   "metadata": {},
   "outputs": [
    {
     "data": {
      "text/plain": [
       "array([[ -1.02779948,  -3.03841251,   4.31868558,   3.49174623],\n",
       "       [  0.99534985,   0.29987054,   0.81135795,   0.26234153],\n",
       "       [  0.83220917,   1.08464879,   0.61758122,   0.36357577],\n",
       "       [  1.05143812,   0.88092018,   0.34199865,   0.9609748 ],\n",
       "       [-28.8064459 , -23.01621386,  38.37642656,  36.02530621]])"
      ]
     },
     "execution_count": 4,
     "metadata": {},
     "output_type": "execute_result"
    }
   ],
   "source": [
    "mlp.hidden_weight"
   ]
  },
  {
   "cell_type": "code",
   "execution_count": 5,
   "id": "laden-diabetes",
   "metadata": {},
   "outputs": [
    {
     "data": {
      "text/plain": [
       "array([0.74368462, 0.81646851, 0.60708948, 0.36046082, 0.45971155])"
      ]
     },
     "execution_count": 5,
     "metadata": {},
     "output_type": "execute_result"
    }
   ],
   "source": [
    "mlp.hidden_bias"
   ]
  },
  {
   "cell_type": "code",
   "execution_count": 6,
   "id": "northern-founder",
   "metadata": {},
   "outputs": [
    {
     "data": {
      "text/plain": [
       "array([[-10.84585191,   1.59478658,   1.72938953,   1.13426431,\n",
       "          0.17622352],\n",
       "       [  8.87305213,  -1.57249249,  -1.64850047,  -1.66551506,\n",
       "         -7.22582581],\n",
       "       [  5.24577493,  -3.2031894 ,  -3.60571468,  -3.28412094,\n",
       "          7.38987971]])"
      ]
     },
     "execution_count": 6,
     "metadata": {},
     "output_type": "execute_result"
    }
   ],
   "source": [
    "mlp.output_weight"
   ]
  },
  {
   "cell_type": "code",
   "execution_count": 7,
   "id": "biblical-petite",
   "metadata": {},
   "outputs": [
    {
     "data": {
      "text/plain": [
       "array([0.69230548, 0.12847291, 0.57024878])"
      ]
     },
     "execution_count": 7,
     "metadata": {},
     "output_type": "execute_result"
    }
   ],
   "source": [
    "mlp.output_bias"
   ]
  }
 ],
 "metadata": {
  "kernelspec": {
   "display_name": "Python 3",
   "language": "python",
   "name": "python3"
  },
  "language_info": {
   "codemirror_mode": {
    "name": "ipython",
    "version": 3
   },
   "file_extension": ".py",
   "mimetype": "text/x-python",
   "name": "python",
   "nbconvert_exporter": "python",
   "pygments_lexer": "ipython3",
   "version": "3.9.1"
  }
 },
 "nbformat": 4,
 "nbformat_minor": 5
}
